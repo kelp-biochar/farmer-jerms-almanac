{
 "cells": [
  {
   "cell_type": "code",
   "execution_count": 9,
   "id": "5f9f49ae-cf60-4da6-a658-d73864062e28",
   "metadata": {},
   "outputs": [],
   "source": [
    "import datetime\n",
    "import pathlib\n",
    "import uuid\n",
    "\n",
    "import jinja2\n",
    "import markdown"
   ]
  },
  {
   "cell_type": "code",
   "execution_count": 11,
   "id": "ad482e80-7343-4cf2-8954-ac7013237d66",
   "metadata": {},
   "outputs": [],
   "source": [
    "blog_post_template = jinja2.Template(\"\"\"<!DOCTYPE html>\n",
    "<html lang=\"en\">\n",
    "<head>\n",
    "  <meta charset=\"utf-8\">\n",
    "  <meta name=\"viewport\" content=\"width=device-width, initial-scale=1\">\n",
    "  <meta name=\"date\" value=\"{{ blog.date.isoformat() }}\"\n",
    "  <title>Farmer Jeremy's Almanac: {{blog.title}}</title>\n",
    "  <link rel=\"stylesheet\" href=\"/tufte.min.css\">\n",
    "  <link rel=\"stylesheet\" href=\"/styles.css\">\n",
    "  <link rel=\"stylesheet\" href=\"https://pyscript.net/releases/2024.1.1/core.css\" />\n",
    "  <script type=\"module\" src=\"https://pyscript.net/releases/2024.1.1/core.js\"></script>\n",
    "  <script src=\"/scripts.js\"></script>\n",
    "</head>\n",
    "<body>\n",
    "  <h2>Farmer Jerms's Almanac for {{ blog.date }}</h2>\n",
    "  <h1>{{blog.title}}</h1>\n",
    "  <article id=\"{{ blog.id }}\">\n",
    "  {{ blog.html|safe }}\n",
    "  </article>\n",
    "<script type=\"py-editor\" target=\"editor\">\n",
    "  import sys\n",
    "  print(sys.version)\n",
    "</script>\n",
    "<div id=\"editor\"></div>\n",
    "<footer>\n",
    "  Copyright &copy; 02024-. \n",
    "  <div>AI statement - I use multiple models for creation assistance in the almanac</div>\n",
    "</footer>\n",
    "</body>\n",
    "</html>\"\"\")"
   ]
  },
  {
   "cell_type": "code",
   "execution_count": 7,
   "id": "3ea57e4c-b37b-449b-b895-186bfc91c262",
   "metadata": {},
   "outputs": [],
   "source": [
    "with open(\"11.md\") as fo:\n",
    "    blog_markdown = markdown.markdown(fo.read())"
   ]
  },
  {
   "cell_type": "code",
   "execution_count": 8,
   "id": "d606f3b2-0499-4ea7-bbb5-89c88116325f",
   "metadata": {},
   "outputs": [
    {
     "data": {
      "text/plain": [
       "'<p>Title: Equipment and Farmer training\\nkeywords: mask, snorkel, fins</p>\\n<p>As any aspiring farmer, I need to train and improve personal\\nequipment. In Kelp Farming, my mask, snorkel, and fins are \\ncritical for survival and daily operations.</p>\\n<p><img alt=\"Mask, Snorkel, and pair of fins\" src=\"mask-snorkel-pair-fins-start.png\" /></p>\\n<p>The blue pair of fins I purchased and used in my 02018 scuba diving\\ntrip to Maui and didn\\'t have any complaints.</p>\\n<p>During the pandemic, I often went to the downtown Colorado Springs \\nYMCA pool to swim laps and use my gear, including the blue fins.\\nFrom <a href=\"https://scubapro.johnsonoutdoors.com/us\">ScubaPro</a>, I\\nmy main mask and snorkel and a <a href=\"https://scubapro.johnsonoutdoors.com/us/shop/fins/rubber-fin\">black pair of fins</a>\\nfull foot design. </p>\\n<p>Last September my wife re-certified her scuba diving certification \\nand was doing her evaluation dives in Monterey Bay. On the second day,\\na Sunday, I joined her for the dives and was my first time diving into \\nKelp beds. My current neoprene booties a too large for the blue fins, so\\nI rented a pair along with tanks and weights from <a href=\"https://montereybayscuba.com/\">Montery Bay Scuba</a>.</p>\\n<p>On the second dive, I was falling behind the group as we moved through the \\ngiant kelp near the pier and my left fin unbuckled and started drifting \\naway. At about 9.1 meters (30 feet) I kicked over, sat down on the bottom,\\nfirst controlling my breathing, then got both of my fins on and totally \\nlost the group and my dive and life partner. I ascend to the top among \\nthe giant kelp and got initially tangled, and then waited until the group\\nsurfaced with the divemaster and instructor. We then continued the dive.</p>\\n<p>In December, Melissa and I went for a dive vacation in Cozumel and I had\\nthe best dives of my life. Here is a photo from the last dive of the vacation:</p>\\n<p><img alt=\"Thumbs-up from Cozumel\" src=\"thumbs-up-cozumel-02023-12.png\" /></p>\\n<p>I used the black fins as you can see. They were adequate for the dives but\\nI need more kick power with a full wetsuit.</p>\\n<h2>Today\\'s Evaluation and Training</h2>\\n<p><img alt=\"The pair fins poolside\" src=\"pair-of-fins-poolside.png\" /> </p>'"
      ]
     },
     "execution_count": 8,
     "metadata": {},
     "output_type": "execute_result"
    }
   ],
   "source": [
    "blog_markdown"
   ]
  },
  {
   "cell_type": "code",
   "execution_count": 16,
   "id": "edb86594-75bb-4a21-9e43-9c640a7b4ed6",
   "metadata": {},
   "outputs": [],
   "source": [
    "with open(\"index.html\", \"w+\") as fo:\n",
    "    html = blog_post_template.render(blog={\n",
    "        \"title\": \"Equipment and Farmer training\",\n",
    "        \"date\": datetime.datetime(2024, 5, 11),\n",
    "        \"html\": blog_markdown,\n",
    "        \n",
    "    })\n",
    "    fo.write(html)"
   ]
  },
  {
   "cell_type": "code",
   "execution_count": 10,
   "id": "eabb1abe-04a6-4162-bc02-cedab1322efa",
   "metadata": {},
   "outputs": [
    {
     "data": {
      "text/plain": [
       "\u001b[0;31mSignature:\u001b[0m \u001b[0mmarkdown\u001b[0m\u001b[0;34m.\u001b[0m\u001b[0mmarkdown\u001b[0m\u001b[0;34m(\u001b[0m\u001b[0mtext\u001b[0m\u001b[0;34m:\u001b[0m \u001b[0;34m'str'\u001b[0m\u001b[0;34m,\u001b[0m \u001b[0;34m**\u001b[0m\u001b[0mkwargs\u001b[0m\u001b[0;34m:\u001b[0m \u001b[0;34m'Any'\u001b[0m\u001b[0;34m)\u001b[0m \u001b[0;34m->\u001b[0m \u001b[0;34m'str'\u001b[0m\u001b[0;34m\u001b[0m\u001b[0;34m\u001b[0m\u001b[0m\n",
       "\u001b[0;31mDocstring:\u001b[0m\n",
       "Convert a markdown string to HTML and return HTML as a Unicode string.\n",
       "\n",
       "This is a shortcut function for [`Markdown`][markdown.Markdown] class to cover the most\n",
       "basic use case.  It initializes an instance of [`Markdown`][markdown.Markdown], loads the\n",
       "necessary extensions and runs the parser on the given text.\n",
       "\n",
       "Arguments:\n",
       "    text: Markdown formatted text as Unicode or ASCII string.\n",
       "\n",
       "Keyword arguments:\n",
       "    **kwargs: Any arguments accepted by the Markdown class.\n",
       "\n",
       "Returns:\n",
       "    A string in the specified output format.\n",
       "\u001b[0;31mFile:\u001b[0m      ~/02024/py3-env/lib/python3.12/site-packages/markdown/core.py\n",
       "\u001b[0;31mType:\u001b[0m      function"
      ]
     },
     "metadata": {},
     "output_type": "display_data"
    }
   ],
   "source": [
    "markdown.markdown?"
   ]
  },
  {
   "cell_type": "code",
   "execution_count": 15,
   "id": "3e026349-3c39-4550-b943-818e959d25c0",
   "metadata": {},
   "outputs": [
    {
     "data": {
      "text/plain": [
       "'<!DOCTYPE html>\\n<html lang=\"en\">\\n<head>\\n  <meta charset=\"utf-8\">\\n  <meta name=\"viewport\" content=\"width=device-width, initial-scale=1\">\\n  <meta name=\"date\" value=\"2024-05-11T00:00:00\"\\n  <title>Farmer Jeremy\\'s Almanac: Equipment and Farmer training</title>\\n  <link rel=\"stylesheet\" href=\"/tufte.min.css\">\\n  <link rel=\"stylesheet\" href=\"/styles.css\">\\n  <link rel=\"stylesheet\" href=\"https://pyscript.net/releases/2024.1.1/core.css\" />\\n  <script type=\"module\" src=\"https://pyscript.net/releases/2024.1.1/core.js\"></script>\\n  <script src=\"/scripts.js\"></script>\\n</head>\\n<body>\\n  <h2>Farmer Jerms\\'s Almanac for 2024-05-11 00:00:00</h2>\\n  <h1>Equipment and Farmer training</h1>\\n  <article id=\"\">\\n  <p>Title: Equipment and Farmer training\\nkeywords: mask, snorkel, fins</p>\\n<p>As any aspiring farmer, I need to train and improve personal\\nequipment. In Kelp Farming, my mask, snorkel, and fins are \\ncritical for survival and daily operations.</p>\\n<p><img alt=\"Mask, Snorkel, and pair of fins\" src=\"mask-snorkel-pair-fins-start.png\" /></p>\\n<p>The blue pair of fins I purchased and used in my 02018 scuba diving\\ntrip to Maui and didn\\'t have any complaints.</p>\\n<p>During the pandemic, I often went to the downtown Colorado Springs \\nYMCA pool to swim laps and use my gear, including the blue fins.\\nFrom <a href=\"https://scubapro.johnsonoutdoors.com/us\">ScubaPro</a>, I\\nmy main mask and snorkel and a <a href=\"https://scubapro.johnsonoutdoors.com/us/shop/fins/rubber-fin\">black pair of fins</a>\\nfull foot design. </p>\\n<p>Last September my wife re-certified her scuba diving certification \\nand was doing her evaluation dives in Monterey Bay. On the second day,\\na Sunday, I joined her for the dives and was my first time diving into \\nKelp beds. My current neoprene booties a too large for the blue fins, so\\nI rented a pair along with tanks and weights from <a href=\"https://montereybayscuba.com/\">Montery Bay Scuba</a>.</p>\\n<p>On the second dive, I was falling behind the group as we moved through the \\ngiant kelp near the pier and my left fin unbuckled and started drifting \\naway. At about 9.1 meters (30 feet) I kicked over, sat down on the bottom,\\nfirst controlling my breathing, then got both of my fins on and totally \\nlost the group and my dive and life partner. I ascend to the top among \\nthe giant kelp and got initially tangled, and then waited until the group\\nsurfaced with the divemaster and instructor. We then continued the dive.</p>\\n<p>In December, Melissa and I went for a dive vacation in Cozumel and I had\\nthe best dives of my life. Here is a photo from the last dive of the vacation:</p>\\n<p><img alt=\"Thumbs-up from Cozumel\" src=\"thumbs-up-cozumel-02023-12.png\" /></p>\\n<p>I used the black fins as you can see. They were adequate for the dives but\\nI need more kick power with a full wetsuit.</p>\\n<h2>Today\\'s Evaluation and Training</h2>\\n<p><img alt=\"The pair fins poolside\" src=\"pair-of-fins-poolside.png\" /> </p>\\n  </article>\\n<script type=\"py-editor\" target=\"editor\">\\n  import sys\\n  print(sys.version)\\n</script>\\n<div id=\"editor\"></div>\\n<footer>\\n  Copyright &copy; 02024-. \\n  <div>AI statement - I use multiple models for creation assistance in the almanac</div>\\n</footer>\\n</body>\\n</html>'"
      ]
     },
     "execution_count": 15,
     "metadata": {},
     "output_type": "execute_result"
    }
   ],
   "source": [
    "blog_post_template.render(blog={\n",
    "        \"title\": \"Equipment and Farmer training\",\n",
    "        \"date\": datetime.datetime(2024, 5, 11),\n",
    "        \"html\": blog_markdown,\n",
    "        \n",
    "    })"
   ]
  },
  {
   "cell_type": "code",
   "execution_count": null,
   "id": "ea4419e2-e00d-40ea-b7e2-296b888916f7",
   "metadata": {},
   "outputs": [],
   "source": [
    "march"
   ]
  }
 ],
 "metadata": {
  "kernelspec": {
   "display_name": "Python 3 (ipykernel)",
   "language": "python",
   "name": "python3"
  },
  "language_info": {
   "codemirror_mode": {
    "name": "ipython",
    "version": 3
   },
   "file_extension": ".py",
   "mimetype": "text/x-python",
   "name": "python",
   "nbconvert_exporter": "python",
   "pygments_lexer": "ipython3",
   "version": "3.12.1"
  }
 },
 "nbformat": 4,
 "nbformat_minor": 5
}
